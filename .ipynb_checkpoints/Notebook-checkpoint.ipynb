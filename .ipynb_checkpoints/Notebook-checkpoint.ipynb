{
 "cells": [
  {
   "cell_type": "code",
   "execution_count": 65,
   "id": "91a75464",
   "metadata": {},
   "outputs": [],
   "source": [
    "import numpy as np\n",
    "from ortools.constraint_solver import pywrapcp"
   ]
  },
  {
   "cell_type": "markdown",
   "id": "a44a11f5",
   "metadata": {},
   "source": [
    "## Variables"
   ]
  },
  {
   "cell_type": "code",
   "execution_count": 29,
   "id": "484769f8",
   "metadata": {},
   "outputs": [],
   "source": [
    "# Input Flow Rate, expressed in m3/s\n",
    "at = np.array([1, 2, 4, 8, 16, 16, 8, 4, 2, 1])\n",
    "\n",
    "# Conversion from m3/s to hm3/day\n",
    "conver_factor = 0.0864\n",
    "\n",
    "at_conv = at * conver_factor"
   ]
  },
  {
   "cell_type": "markdown",
   "id": "98c1145c",
   "metadata": {},
   "source": [
    "## Parameters"
   ]
  },
  {
   "cell_type": "code",
   "execution_count": 43,
   "id": "89229b90",
   "metadata": {},
   "outputs": [],
   "source": [
    "# Maximum flow rate through turbines, expressed in m3/s\n",
    "max_flow_turb = 450\n",
    "\n",
    "# Maximum flow rate of spillway,expressed in m3/s\n",
    "max_flow_spill = 200\n",
    "\n",
    "# Initial volume in reservoir, expressed in hm3\n",
    "init_vol_reservoir = 450\n",
    "\n",
    "# Maximum volume in reservoir, expressed in hm3\n",
    "max_vol_reservoir = 500\n",
    "\n",
    "# List of days\n",
    "days = list(range(10))\n",
    "\n",
    "efficiency_table = np.matrix([\n",
    "    [0.18, 0.33, 0.38],\n",
    "    [0.18, 0.34, 0.39],\n",
    "    [0.19, 0.35, 0.40],\n",
    "    [0.19, 0.37, 0.42],\n",
    "    [0.21, 0.39, 0.45],\n",
    "    ])"
   ]
  },
  {
   "cell_type": "code",
   "execution_count": 64,
   "id": "03afc6b3",
   "metadata": {},
   "outputs": [],
   "source": [
    "current_flow = 350\n",
    "current_volume = 380\n",
    "\n",
    "ranges_col = [0, 200, 400]\n",
    "ranges_row = [0, 100, 200,300,400]\n",
    "\n",
    "# Get the index of the row\n",
    "for i in range(len(ranges_row)-1):\n",
    "    if current_volume in range(ranges_row[i], ranges_row[i+1]):\n",
    "        index_row = i\n",
    "        \n",
    "# Get the index of the column\n",
    "for j in range(len(ranges_col)-1):\n",
    "    if current_flow in range(ranges_col[j], ranges_col[j+1]):\n",
    "        index_col = j\n",
    "\n",
    "# Create an empty matrix\n",
    "new_matrix = np.zeros((len(ranges_row), len(ranges_col)))\n",
    "# Add an element with a one\n",
    "new_matrix[index_row, index_col] = 1\n",
    "# Multiply the two matrixes and get the only non-zero values\n",
    "value = np.sum(np.multiply(efficiency_table, new_matrix))"
   ]
  },
  {
   "cell_type": "code",
   "execution_count": 66,
   "id": "65c61b2c",
   "metadata": {},
   "outputs": [
    {
     "ename": "AttributeError",
     "evalue": "'Solver' object has no attribute 'NumVar'",
     "output_type": "error",
     "traceback": [
      "\u001b[0;31m---------------------------------------------------------------------------\u001b[0m",
      "\u001b[0;31mAttributeError\u001b[0m                            Traceback (most recent call last)",
      "\u001b[0;32m<ipython-input-66-de24aaed0fe7>\u001b[0m in \u001b[0;36m<module>\u001b[0;34m\u001b[0m\n\u001b[1;32m      1\u001b[0m \u001b[0msolver\u001b[0m \u001b[0;34m=\u001b[0m \u001b[0mpywrapcp\u001b[0m\u001b[0;34m.\u001b[0m\u001b[0mSolver\u001b[0m\u001b[0;34m(\u001b[0m\u001b[0;34m'CPSimple'\u001b[0m\u001b[0;34m)\u001b[0m\u001b[0;34m\u001b[0m\u001b[0;34m\u001b[0m\u001b[0m\n\u001b[1;32m      2\u001b[0m \u001b[0;34m\u001b[0m\u001b[0m\n\u001b[0;32m----> 3\u001b[0;31m \u001b[0mpt\u001b[0m \u001b[0;34m=\u001b[0m \u001b[0msolver\u001b[0m\u001b[0;34m.\u001b[0m\u001b[0mNumVar\u001b[0m\u001b[0;34m(\u001b[0m\u001b[0;36m0\u001b[0m\u001b[0;34m,\u001b[0m \u001b[0msolver\u001b[0m\u001b[0;34m.\u001b[0m\u001b[0minfinity\u001b[0m\u001b[0;34m(\u001b[0m\u001b[0;34m)\u001b[0m\u001b[0;34m,\u001b[0m \u001b[0;34m'pt'\u001b[0m\u001b[0;34m)\u001b[0m\u001b[0;34m\u001b[0m\u001b[0;34m\u001b[0m\u001b[0m\n\u001b[0m\u001b[1;32m      4\u001b[0m \u001b[0mqt\u001b[0m \u001b[0;34m=\u001b[0m \u001b[0msolver\u001b[0m\u001b[0;34m.\u001b[0m\u001b[0mNumVar\u001b[0m\u001b[0;34m(\u001b[0m\u001b[0;36m0\u001b[0m\u001b[0;34m,\u001b[0m \u001b[0msolver\u001b[0m\u001b[0;34m.\u001b[0m\u001b[0minfinity\u001b[0m\u001b[0;34m(\u001b[0m\u001b[0;34m)\u001b[0m\u001b[0;34m,\u001b[0m \u001b[0;34m'qt'\u001b[0m\u001b[0;34m)\u001b[0m\u001b[0;34m\u001b[0m\u001b[0;34m\u001b[0m\u001b[0m\n\u001b[1;32m      5\u001b[0m \u001b[0;34m\u001b[0m\u001b[0m\n",
      "\u001b[0;31mAttributeError\u001b[0m: 'Solver' object has no attribute 'NumVar'"
     ]
    }
   ],
   "source": [
    "solver = pywrapcp.Solver('CPSimple')\n",
    "\n",
    "pt = solver.IntVar(0, solver.infinity(), 'pt')\n",
    "qt = solver.IntVar(0, solver.infinity(), 'qt')\n",
    "\n",
    "print('Number of variables =', solver.NumVariables())"
   ]
  },
  {
   "cell_type": "code",
   "execution_count": null,
   "id": "fa87c01e",
   "metadata": {},
   "outputs": [],
   "source": [
    "# Constraint \n",
    "solver.Add( + 2 * y <= 14.0)\n",
    "\n",
    "# Constraint 1: 3x - y >= 0.\n",
    "solver.Add(3 * x - y >= 0.0)\n",
    "\n",
    "# Constraint 2: x - y <= 2.\n",
    "solver.Add(x - y <= 2.0)\n",
    "\n",
    "print('Number of constraints =', solver.NumConstraints())"
   ]
  }
 ],
 "metadata": {
  "kernelspec": {
   "display_name": "Python 3",
   "language": "python",
   "name": "python3"
  },
  "language_info": {
   "codemirror_mode": {
    "name": "ipython",
    "version": 3
   },
   "file_extension": ".py",
   "mimetype": "text/x-python",
   "name": "python",
   "nbconvert_exporter": "python",
   "pygments_lexer": "ipython3",
   "version": "3.8.3"
  }
 },
 "nbformat": 4,
 "nbformat_minor": 5
}
