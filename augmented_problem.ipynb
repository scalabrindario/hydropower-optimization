{
 "cells": [
  {
   "cell_type": "markdown",
   "source": [
    "### Import required libraries"
   ],
   "metadata": {
    "collapsed": false,
    "pycharm": {
     "name": "#%% md\n"
    }
   }
  },
  {
   "cell_type": "code",
   "execution_count": null,
   "outputs": [],
   "source": [
    "# Data manipulation\n",
    "import numpy as np\n",
    "import pandas as pd\n",
    "\n",
    "# Outputs\n",
    "from tabulate import tabulate\n",
    "import plotly.express as px\n",
    "\n",
    "# Linear Programming\n",
    "from ortools.linear_solver import pywraplp"
   ],
   "metadata": {
    "collapsed": false,
    "pycharm": {
     "name": "#%%\n"
    }
   }
  },
  {
   "cell_type": "markdown",
   "source": [
    "### Create SCIP solver"
   ],
   "metadata": {
    "collapsed": false,
    "pycharm": {
     "name": "#%% md\n"
    }
   }
  },
  {
   "cell_type": "code",
   "execution_count": null,
   "outputs": [],
   "source": [
    "# Create the solver with the GLOP solver\n",
    "solver = pywraplp.Solver.CreateSolver('SCIP')"
   ],
   "metadata": {
    "collapsed": false,
    "pycharm": {
     "name": "#%%\n"
    }
   }
  },
  {
   "cell_type": "markdown",
   "source": [
    "### Parameters"
   ],
   "metadata": {
    "collapsed": false,
    "pycharm": {
     "name": "#%% md\n"
    }
   }
  },
  {
   "cell_type": "code",
   "execution_count": null,
   "outputs": [],
   "source": [
    "# Single value parameters\n",
    "pmax = 500  # m3/s\n",
    "qmax = 200  # m3/s\n",
    "vmax = 200  # hm3\n",
    "v0 = 80  # hm3\n",
    "C = 0.0864  # m3/s to hm3/day\n",
    "days = 10  # number of time steps\n",
    "inflow_scaling_factor = 25  # inflow scaling factor to create interesting model\n",
    "nominal_revenue = 0.15  # CHF/kWh\n",
    "\n",
    "# Water energy transformation\n",
    "outflow_to_energy = 6 * 24  # Power (W) to Energy en kWh/day\n",
    "\n",
    "# Solar panel parameters\n",
    "solar_constant = 1.37  #kW/m2\n",
    "sunlight_hours = 8  #hours / 1 day\n",
    "solar_to_elect = 0.20  # kW of sun to kW of electricity\n",
    "sunlight_constant = solar_constant * sunlight_hours  # kWh/m2/day\n",
    "solar_panel_area = 12  #m2 of solar panels PARAMETER\n",
    "\n",
    "max_grid = 250  #kWh\n",
    "elec_to_water = 0.60\n",
    "\n",
    "\n",
    "# Vector parameters\n",
    "revenue_per_kwh = np.array([1.00, 0.05, 0.1, 0.1, 0.1, 0.25, 0.80, 2.00, 2.00,\n",
    "                            1.00]) * nominal_revenue  # created, not from height, revenue per unit of energy (1 being baseline (100%) normal price, 2 being double price, 0.5 being half price)\n",
    "## Some days, it is more profitable to store water than to sell it\n",
    "a = np.array([1, 2, 16, 16, 8, 2, 8, 4, 16, 1]) * inflow_scaling_factor\n",
    "sun_pred = np.array([1, 0.8, 1.2, 1.5, 0.1, 0.2, 0.3, 1, 0.9,\n",
    "                     0.8])  # predicted sunlight for each day as percentage of nominal sunlight (solar_constant)\n",
    "\n",
    "\n",
    "# Empty array to fill in with pumped water\n",
    "pumped_water = np.array([])"
   ],
   "metadata": {
    "collapsed": false,
    "pycharm": {
     "name": "#%%\n"
    }
   }
  },
  {
   "cell_type": "markdown",
   "source": [
    "### Variables"
   ],
   "metadata": {
    "collapsed": false,
    "pycharm": {
     "name": "#%% md\n"
    }
   }
  },
  {
   "cell_type": "code",
   "execution_count": null,
   "outputs": [],
   "source": [
    "# External variables\n",
    "p = {}  # p[t] is the flow through the turbines at time t\n",
    "q = {}  # q[t] is the flow dumped in the lake at time t\n",
    "\n",
    "# Implicit variables\n",
    "v = {}  # v[t] is the volume in reservoir at time t, hm3\n",
    "prod = {}  # prod[t] is the energy production * revenue per energy unit\n",
    "\n",
    "# Create variables, N+1 to accommodate for v[t+1] term\n",
    "for t in range(days + 1):\n",
    "    p[t] = solver.NumVar(0, solver.infinity(), 'p[%i]' % t)\n",
    "    q[t] = solver.NumVar(0, solver.infinity(), 'q[%i]' % t)\n",
    "    v[t] = solver.NumVar(0, solver.infinity(), 'v[%i]' % t)\n",
    "    prod[t] = solver.NumVar(0, solver.infinity(), 'prod[%i]' % t)\n",
    "\n",
    "print('Number of variables =', solver.NumVariables())"
   ],
   "metadata": {
    "collapsed": false,
    "pycharm": {
     "name": "#%%\n"
    }
   }
  },
  {
   "cell_type": "code",
   "execution_count": null,
   "outputs": [],
   "source": [
    "for t in range(days):\n",
    "    # Initial conditions\n",
    "    solver.Add(v[0] == v0)  # initial volume\n",
    "\n",
    "    # Calculate electricity produced from solar panels\n",
    "    sol_pow = sunlight_constant * sun_pred[t] * solar_panel_area * solar_to_elect\n",
    "    # kWh/m2/day * unitless * m2 * kWh/m2 = kWh/day\n",
    "\n",
    "    # Check if the electricity produced is higher than the maximum supported from the grid\n",
    "    if sol_pow > max_grid:\n",
    "        # If it is higher, calculate the surplus\n",
    "        elec_surplus = sol_pow - max_grid\n",
    "    else:\n",
    "        # # If it is lower, set the surplus to zero\n",
    "        elec_surplus = 0\n",
    "\n",
    "    # Calculate the water that could be pumped into the dam (Converting kWh/day to hm3/day) https://www.quora.com/How-many-kW-is-needed-to-pump-1000-m-3-h-of-water-to-10-m-high\n",
    "    ## Volume pumped from energy amount\n",
    "    ## We need to convert kWh/day surplus to hm3/day added water\n",
    "    additional_water = elec_surplus * elec_to_water\n",
    "\n",
    "    # Append the value in a numpy array\n",
    "    pumped_water = np.append(pumped_water, np.int32(additional_water))\n",
    "\n",
    "    # Constraints that contain [t-1] terms\n",
    "    solver.Add(v[t + 1] == v[t] + pumped_water[t] + C * (a[t] - p[t] - q[t]))  # volume balance\n",
    "    solver.Add(p[t] - p[t + 1] <= 0.5 * pmax)\n",
    "    solver.Add(p[t + 1] - p[t] <= 0.5 * pmax)\n",
    "\n",
    "    # Production from efficiency and flow in turbine\n",
    "    solver.Add(prod[t] == revenue_per_kwh[t] * (p[t] * outflow_to_energy))  #p[t]* outflow_to_energy = kwh/day\n",
    "\n",
    "    # Ceiling constraints\n",
    "    solver.Add(v[t] <= vmax)\n",
    "    solver.Add(p[t] <= pmax)\n",
    "    solver.Add(q[t] <= qmax)\n",
    "\n",
    "    # Non-negativity constraints\n",
    "    solver.Add(v[t] >= 0)\n",
    "    solver.Add(p[t] >= 0)\n",
    "    solver.Add(q[t] >= 0)\n",
    "    solver.Add(prod[t] >= 0)"
   ],
   "metadata": {
    "collapsed": false,
    "pycharm": {
     "name": "#%%\n"
    }
   }
  },
  {
   "cell_type": "code",
   "execution_count": null,
   "outputs": [],
   "source": [
    "# Objective function\n",
    "objective = solver.Objective()\n",
    "\n",
    "# Equilvalent to sum(prod[t] for t in range(N)) or prod[0] + ... + prod[days - 1]\n",
    "for t in range(days):\n",
    "    objective.SetCoefficient(prod[t], 1)\n",
    "objective.SetMaximization()"
   ],
   "metadata": {
    "collapsed": false,
    "pycharm": {
     "name": "#%%\n"
    }
   }
  },
  {
   "cell_type": "code",
   "execution_count": null,
   "outputs": [],
   "source": [
    "# Solve\n",
    "status = solver.Solve()"
   ],
   "metadata": {
    "collapsed": false,
    "pycharm": {
     "name": "#%%\n"
    }
   }
  },
  {
   "cell_type": "code",
   "execution_count": null,
   "outputs": [],
   "source": [
    "# Extract solution\n",
    "p_sol = []\n",
    "q_sol = []\n",
    "v_sol = []\n",
    "prod_sol = []\n",
    "print('Objective value =', solver.Objective().Value())\n",
    "# If optimality is reached, print the solution\n",
    "if status == pywraplp.Solver.OPTIMAL:\n",
    "    print('Objective value =', solver.Objective().Value())\n",
    "    for t in range(days + 1):\n",
    "        print(p[t].name(), ' = ', p[t].solution_value())\n",
    "        print(q[t].name(), ' = ', q[t].solution_value())\n",
    "        print(v[t].name(), ' = ', v[t].solution_value())\n",
    "        p_sol.append(p[t].solution_value())\n",
    "        q_sol.append(q[t].solution_value())\n",
    "        v_sol.append(v[t].solution_value())\n",
    "        prod_sol.append(prod[t].solution_value())\n",
    "        print()"
   ],
   "metadata": {
    "collapsed": false,
    "pycharm": {
     "name": "#%%\n"
    }
   }
  },
  {
   "cell_type": "code",
   "execution_count": null,
   "outputs": [],
   "source": [
    "df = pd.DataFrame(data=[p_sol, q_sol, a, v_sol, prod_sol, revenue_per_kwh, pumped_water]).T\n",
    "df.columns = ['p_t', 'q_t', 'a_t', 'v_t', 'prod_t', 'eff', \"pumped_water\"]\n",
    "df = df.round(2)\n",
    "#df.style.format(precision = 2)\n",
    "print('Volume at the end of last day =', v_sol[-1])\n",
    "df = df[:-1]\n",
    "print(tabulate(df, headers=df.columns))\n",
    "# graph all but last row on plotly\n",
    "fig = px.line(df, x=df.index, y=df.columns)\n",
    "fig.show()"
   ],
   "metadata": {
    "collapsed": false,
    "pycharm": {
     "name": "#%%\n"
    }
   }
  }
 ],
 "metadata": {
  "kernelspec": {
   "display_name": "Python 3",
   "language": "python",
   "name": "python3"
  },
  "language_info": {
   "codemirror_mode": {
    "name": "ipython",
    "version": 2
   },
   "file_extension": ".py",
   "mimetype": "text/x-python",
   "name": "python",
   "nbconvert_exporter": "python",
   "pygments_lexer": "ipython2",
   "version": "2.7.6"
  }
 },
 "nbformat": 4,
 "nbformat_minor": 0
}