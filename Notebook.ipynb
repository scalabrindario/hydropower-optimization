{
 "cells": [
  {
   "cell_type": "code",
   "execution_count": 1,
   "metadata": {},
   "outputs": [],
   "source": [
    "import numpy as np\n",
    "from ortools.constraint_solver import pywrapcp"
   ]
  },
  {
   "cell_type": "markdown",
   "metadata": {},
   "source": [
    "## Variables"
   ]
  },
  {
   "cell_type": "code",
   "execution_count": 10,
   "metadata": {},
   "outputs": [],
   "source": [
    "# average daily flow rate through the turbines for day t \n",
    "p = np.array([0])\n",
    "\n",
    "#average daily flow rate to the spillway for day t\n",
    "q = np.array([0])"
   ]
  },
  {
   "cell_type": "markdown",
   "metadata": {},
   "source": [
    "## Parameters"
   ]
  },
  {
   "cell_type": "code",
   "execution_count": 11,
   "metadata": {},
   "outputs": [],
   "source": [
    "# Input Flow Rate, expressed in m3/s\n",
    "a = np.array([1, 2, 4, 8, 16, 16, 8, 4, 2, 1])\n",
    "\n",
    "# Conversion from m3/s to hm3/day\n",
    "conver_factor = 0.0864\n",
    "\n",
    "a_conv = a_t * conver_factor\n",
    "\n",
    "# Maximum flow rate through turbines, expressed in m3/s\n",
    "p_max = 450\n",
    "\n",
    "# Maximum flow rate of spillway,expressed in m3/s\n",
    "q_max = 200\n",
    "\n",
    "# Initial volume in reservoir, expressed in hm3\n",
    "V_0 = 450\n",
    "\n",
    "#Volume in reservoir in day t in hm3\n",
    "V = np.array([V_0])\n",
    "\n",
    "#avg daily Volume of the reservoir: V_bar\n",
    "V_bar = np.array([]) #V_bar[i] = (V[i]+V[i+1])/2\n",
    "\n",
    "# Maximum volume in reservoir, expressed in hm3\n",
    "V_max = 500\n",
    "\n",
    "# List of days\n",
    "days = list(range(10))\n",
    "\n",
    "\n",
    "# the efficiency of power generation\n",
    "efficiency_table = np.matrix([\n",
    "    [0.18, 0.33, 0.38],\n",
    "    [0.18, 0.34, 0.39],\n",
    "    [0.19, 0.35, 0.40],\n",
    "    [0.19, 0.37, 0.42],\n",
    "    [0.21, 0.39, 0.45],\n",
    "    ])\n",
    "#ASSUMPTION 1: efficiency = (avg daily Volume of the reservoir: V_bar) * (average daily flow rate through turbines: p_t) \n",
    "#ASSUMPTION 2: efficiency = (avg daily Volume of the reservoir: V_bar)\n"
   ]
  },
  {
   "cell_type": "code",
   "execution_count": 4,
   "metadata": {},
   "outputs": [],
   "source": [
    "current_flow = 350\n",
    "current_volume = 380\n",
    "\n",
    "ranges_col = [0, 200, 400]\n",
    "ranges_row = [0, 100, 200,300,400]\n",
    "\n",
    "# Get the index of the row\n",
    "for i in range(len(ranges_row)-1):\n",
    "    if current_volume in range(ranges_row[i], ranges_row[i+1]):\n",
    "        index_row = i\n",
    "        \n",
    "# Get the index of the column\n",
    "for j in range(len(ranges_col)-1):\n",
    "    if current_flow in range(ranges_col[j], ranges_col[j+1]):\n",
    "        index_col = j\n",
    "\n",
    "# Create an empty matrix\n",
    "new_matrix = np.zeros((len(ranges_row), len(ranges_col)))\n",
    "# Add an element with a one\n",
    "new_matrix[index_row, index_col] = 1\n",
    "# Multiply the two matrixes and get the only non-zero values\n",
    "value = np.sum(np.multiply(efficiency_table, new_matrix))"
   ]
  },
  {
   "cell_type": "code",
   "execution_count": 66,
   "metadata": {},
   "outputs": [
    {
     "ename": "AttributeError",
     "evalue": "'Solver' object has no attribute 'NumVar'",
     "output_type": "error",
     "traceback": [
      "\u001b[0;31m---------------------------------------------------------------------------\u001b[0m",
      "\u001b[0;31mAttributeError\u001b[0m                            Traceback (most recent call last)",
      "\u001b[0;32m<ipython-input-66-de24aaed0fe7>\u001b[0m in \u001b[0;36m<module>\u001b[0;34m\u001b[0m\n\u001b[1;32m      1\u001b[0m \u001b[0msolver\u001b[0m \u001b[0;34m=\u001b[0m \u001b[0mpywrapcp\u001b[0m\u001b[0;34m.\u001b[0m\u001b[0mSolver\u001b[0m\u001b[0;34m(\u001b[0m\u001b[0;34m'CPSimple'\u001b[0m\u001b[0;34m)\u001b[0m\u001b[0;34m\u001b[0m\u001b[0;34m\u001b[0m\u001b[0m\n\u001b[1;32m      2\u001b[0m \u001b[0;34m\u001b[0m\u001b[0m\n\u001b[0;32m----> 3\u001b[0;31m \u001b[0mpt\u001b[0m \u001b[0;34m=\u001b[0m \u001b[0msolver\u001b[0m\u001b[0;34m.\u001b[0m\u001b[0mNumVar\u001b[0m\u001b[0;34m(\u001b[0m\u001b[0;36m0\u001b[0m\u001b[0;34m,\u001b[0m \u001b[0msolver\u001b[0m\u001b[0;34m.\u001b[0m\u001b[0minfinity\u001b[0m\u001b[0;34m(\u001b[0m\u001b[0;34m)\u001b[0m\u001b[0;34m,\u001b[0m \u001b[0;34m'pt'\u001b[0m\u001b[0;34m)\u001b[0m\u001b[0;34m\u001b[0m\u001b[0;34m\u001b[0m\u001b[0m\n\u001b[0m\u001b[1;32m      4\u001b[0m \u001b[0mqt\u001b[0m \u001b[0;34m=\u001b[0m \u001b[0msolver\u001b[0m\u001b[0;34m.\u001b[0m\u001b[0mNumVar\u001b[0m\u001b[0;34m(\u001b[0m\u001b[0;36m0\u001b[0m\u001b[0;34m,\u001b[0m \u001b[0msolver\u001b[0m\u001b[0;34m.\u001b[0m\u001b[0minfinity\u001b[0m\u001b[0;34m(\u001b[0m\u001b[0;34m)\u001b[0m\u001b[0;34m,\u001b[0m \u001b[0;34m'qt'\u001b[0m\u001b[0;34m)\u001b[0m\u001b[0;34m\u001b[0m\u001b[0;34m\u001b[0m\u001b[0m\n\u001b[1;32m      5\u001b[0m \u001b[0;34m\u001b[0m\u001b[0m\n",
      "\u001b[0;31mAttributeError\u001b[0m: 'Solver' object has no attribute 'NumVar'"
     ]
    }
   ],
   "source": [
    "solver = pywrapcp.Solver('CPSimple')\n",
    "\n",
    "pt = solver.IntVar(0, solver.infinity(), 'pt')\n",
    "qt = solver.IntVar(0, solver.infinity(), 'qt')\n",
    "\n",
    "print('Number of variables =', solver.NumVariables())"
   ]
  },
  {
   "cell_type": "code",
   "execution_count": null,
   "metadata": {},
   "outputs": [],
   "source": [
    "# Constraint \n",
    "solver.Add( + 2 * y <= 14.0)\n",
    "\n",
    "# Constraint 1: 3x - y >= 0.\n",
    "solver.Add(3 * x - y >= 0.0)\n",
    "\n",
    "# Constraint 2: x - y <= 2.\n",
    "solver.Add(x - y <= 2.0)\n",
    "\n",
    "print('Number of constraints =', solver.NumConstraints())"
   ]
  },
  {
   "cell_type": "code",
   "execution_count": 12,
   "metadata": {},
   "outputs": [
    {
     "ename": "SyntaxError",
     "evalue": "invalid character in identifier (<ipython-input-12-d6881b268d6f>, line 3)",
     "output_type": "error",
     "traceback": [
      "\u001b[0;36m  File \u001b[0;32m\"<ipython-input-12-d6881b268d6f>\"\u001b[0;36m, line \u001b[0;32m3\u001b[0m\n\u001b[0;31m    V[t] = V[t−1] + conver_factor*(a[t−1] − p[t−1] − q[t−1])\u001b[0m\n\u001b[0m               ^\u001b[0m\n\u001b[0;31mSyntaxError\u001b[0m\u001b[0;31m:\u001b[0m invalid character in identifier\n"
     ]
    }
   ],
   "source": [
    "#constraints \n",
    "t = 1\n",
    "#the volume at time t (begining of the day) is \n",
    "    # the previous volume \n",
    "    # + what was sent to spillway \n",
    "    # + what was sent to turbines \n",
    "    # + what was added (rain) \n",
    "V[t] = V[t−1] + conver_factor*(a[t−1] − p[t−1] − q[t−1]) \n",
    "\n",
    "# the volume of the reservoir is limited\n",
    "# V_bar[t] <= V_max \n",
    "solver.Add( V_bar[t] <= V_max )\n",
    "\n",
    "# the average daily volume through the turbine is limited\n",
    "# p[t] <= p_max\n",
    "solver.Add( p[t] <= p_max )\n",
    "\n",
    "# the average daily volume through the spill way is limited \n",
    "# q[t] <= q_max\n",
    "solver.Add( q[t] <= q_max )\n",
    "\n",
    "# the variation in daily flow through the turbine is limited\n",
    "# np.abs(p[t]-p[t-1]) <= 0.5*p_max\n",
    "solver.Add( np.abs(p[t]-p[t-1]) <= 0.5*p_max )"
   ]
  },
  {
   "cell_type": "code",
   "execution_count": 16,
   "metadata": {},
   "outputs": [
    {
     "ename": "NameError",
     "evalue": "name 't' is not defined",
     "output_type": "error",
     "traceback": [
      "\u001b[0;31m---------------------------------------------------------------------------\u001b[0m",
      "\u001b[0;31mNameError\u001b[0m                                 Traceback (most recent call last)",
      "\u001b[0;32m<ipython-input-16-509e21e14466>\u001b[0m in \u001b[0;36m<module>\u001b[0;34m\u001b[0m\n\u001b[1;32m      1\u001b[0m \u001b[0;31m#cost function, to be maximized:\u001b[0m\u001b[0;34m\u001b[0m\u001b[0;34m\u001b[0m\u001b[0;34m\u001b[0m\u001b[0m\n\u001b[1;32m      2\u001b[0m \u001b[0;34m\u001b[0m\u001b[0m\n\u001b[0;32m----> 3\u001b[0;31m \u001b[0mc\u001b[0m\u001b[0;34m[\u001b[0m\u001b[0mt\u001b[0m\u001b[0;34m]\u001b[0m \u001b[0;34m=\u001b[0m \u001b[0mV_bar\u001b[0m\u001b[0;34m[\u001b[0m\u001b[0mt\u001b[0m\u001b[0;34m]\u001b[0m\u001b[0;34m*\u001b[0m\u001b[0mp\u001b[0m\u001b[0;34m[\u001b[0m\u001b[0mt\u001b[0m\u001b[0;34m]\u001b[0m \u001b[0;31m#cf assumption 2\u001b[0m\u001b[0;34m\u001b[0m\u001b[0;34m\u001b[0m\u001b[0m\n\u001b[0m",
      "\u001b[0;31mNameError\u001b[0m: name 't' is not defined"
     ]
    }
   ],
   "source": [
    "#cost function, to be maximized: \n",
    "E[t] = 0.01*V_bar[t]\n",
    "c[t] = E[t]*p[t] #cf assumption 2"
   ]
  },
  {
   "cell_type": "code",
   "execution_count": null,
   "metadata": {},
   "outputs": [],
   "source": []
  }
 ],
 "metadata": {
  "kernelspec": {
   "display_name": "Python 3",
   "language": "python",
   "name": "python3"
  },
  "language_info": {
   "codemirror_mode": {
    "name": "ipython",
    "version": 3
   },
   "file_extension": ".py",
   "mimetype": "text/x-python",
   "name": "python",
   "nbconvert_exporter": "python",
   "pygments_lexer": "ipython3",
   "version": "3.8.3"
  }
 },
 "nbformat": 4,
 "nbformat_minor": 5
}
