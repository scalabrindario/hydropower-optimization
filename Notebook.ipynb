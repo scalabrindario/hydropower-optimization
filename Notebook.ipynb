{
 "cells": [
  {
   "cell_type": "code",
   "execution_count": null,
   "metadata": {},
   "outputs": [],
   "source": [
    "'''the basic steps for setting up and solving a problem are:\n",
    "\n",
    "Import the required libraries.\n",
    "Declare the solver.\n",
    "Create the variables.\n",
    "Define the constraints.\n",
    "Define the objective function.\n",
    "Invoke the solver and display the results.'''"
   ]
  },
  {
   "cell_type": "code",
   "execution_count": 29,
   "metadata": {},
   "outputs": [],
   "source": [
    "import numpy as np\n",
    "from ortools.constraint_solver import pywrapcp\n",
    "from ortools.linear_solver import pywraplp\n",
    "from ortools.init import pywrapinit"
   ]
  },
  {
   "cell_type": "code",
   "execution_count": 46,
   "metadata": {},
   "outputs": [],
   "source": [
    "#Declaring the solver\n",
    "solver = pywraplp.Solver.CreateSolver('GLOP')"
   ]
  },
  {
   "cell_type": "markdown",
   "metadata": {},
   "source": [
    "## Variables"
   ]
  },
  {
   "cell_type": "code",
   "execution_count": 45,
   "metadata": {},
   "outputs": [
    {
     "name": "stdout",
     "output_type": "stream",
     "text": [
      "Number of variables = 6\n"
     ]
    }
   ],
   "source": [
    "# average daily flow rate through the turbines for day t \n",
    "#p = np.array([])\n",
    "\n",
    "#average daily flow rate to the spillway for day t\n",
    "#q = np.array([])\n",
    "\n",
    "p = solver.NumVar(0, solver.infinity(), 'p')\n",
    "q = solver.NumVar(0, solver.infinity(), 'q')\n",
    "V_bar = solver.NumVar(0, solver.infinity(), 'V')\n",
    "\n",
    "print('Number of variables =', solver.NumVariables())"
   ]
  },
  {
   "cell_type": "code",
   "execution_count": 44,
   "metadata": {},
   "outputs": [
    {
     "name": "stdout",
     "output_type": "stream",
     "text": [
      "Number of constraints = 3\n"
     ]
    }
   ],
   "source": [
    "#constraints \n",
    "#t = 1\n",
    "#the volume at time t (begining of the day) is \n",
    "    # the previous volume \n",
    "    # - what was sent to spillway \n",
    "    # - what was sent to turbines \n",
    "    # + what was added (rain) \n",
    "#V[t] = V[t−1] + conver_factor*(a[t−1] − p[t−1] − q[t−1]) \n",
    "\n",
    "# the volume of the reservoir is limited\n",
    "# V_bar[t] <= V_max \n",
    "solver.Add( V_bar <= V_max )\n",
    "\n",
    "# the average daily volume through the turbine is limited\n",
    "# p[t] <= p_max\n",
    "solver.Add( p <= p_max )\n",
    "\n",
    "# the average daily volume through the spill way is limited \n",
    "# q[t] <= q_max\n",
    "solver.Add( q <= q_max )\n",
    "\n",
    "# the variation in daily flow through the turbine is limited\n",
    "# np.abs(p[t]-p[t-1]) <= 0.5*p_max\n",
    "#solver.Add( np.abs(p[t]-p[t-1]) <= 0.5*p_max )\n",
    "\n",
    "\n",
    "print('Number of constraints =', solver.NumConstraints())"
   ]
  },
  {
   "cell_type": "code",
   "execution_count": 34,
   "metadata": {},
   "outputs": [],
   "source": [
    "# Objective function:\n",
    "solver.Maximize(efficiency *  p )"
   ]
  },
  {
   "cell_type": "code",
   "execution_count": 35,
   "metadata": {},
   "outputs": [],
   "source": [
    "status = solver.Solve()"
   ]
  },
  {
   "cell_type": "code",
   "execution_count": 36,
   "metadata": {},
   "outputs": [
    {
     "name": "stdout",
     "output_type": "stream",
     "text": [
      "Solution:\n",
      "Objective value = 450.0\n",
      "p = 450.0\n",
      "q = 0.0\n"
     ]
    }
   ],
   "source": [
    "if status == pywraplp.Solver.OPTIMAL:\n",
    "    print('Solution:')\n",
    "    print('Objective value =', solver.Objective().Value())\n",
    "    print('p =', p.solution_value())\n",
    "    print('q =', q.solution_value())\n",
    "else:\n",
    "    print('The problem does not have an optimal solution.')"
   ]
  },
  {
   "cell_type": "markdown",
   "metadata": {},
   "source": [
    "## Parameters"
   ]
  },
  {
   "cell_type": "code",
   "execution_count": 50,
   "metadata": {},
   "outputs": [],
   "source": [
    "# Input Flow Rate, expressed in m3/s\n",
    "a = np.array([1, 2, 4, 8, 16, 16, 8, 4, 2, 1])\n",
    "\n",
    "# Conversion from m3/s to hm3/day\n",
    "conver_factor = 0.0864\n",
    "\n",
    "a_conv = a * conver_factor\n",
    "\n",
    "# Maximum flow rate through turbines, expressed in m3/s\n",
    "p_max = 450\n",
    "\n",
    "# Maximum flow rate of spillway,expressed in m3/s\n",
    "q_max = 200\n",
    "\n",
    "# Initial volume in reservoir, expressed in hm3\n",
    "V_0 = 450\n",
    "\n",
    "#Volume in reservoir in day t in hm3\n",
    "V = [V_0]\n",
    "\n",
    "#avg daily Volume of the reservoir: V_bar\n",
    "V_bar = [V_0] #V_bar[i] = (V[i]+V[i+1])/2\n",
    "\n",
    "# Maximum volume in reservoir, expressed in hm3\n",
    "V_max = 500\n",
    "\n",
    "# List of days\n",
    "days = list(range(10))\n",
    "\n",
    "\n",
    "# the efficiency of power generation\n",
    "#efficiency_table = np.matrix([\n",
    "#    [0.18, 0.33, 0.38],\n",
    "#    [0.18, 0.34, 0.39],\n",
    "#    [0.19, 0.35, 0.40],\n",
    "#    [0.19, 0.37, 0.42],\n",
    "#    [0.21, 0.39, 0.45],\n",
    "#    ])\n",
    "#ASSUMPTION 1: efficiency = (avg daily Volume of the reservoir: V_bar) * (average daily flow rate through turbines: p_t) \n",
    "#ASSUMPTION 2: efficiency = (avg daily Volume of the reservoir: V_bar)\n"
   ]
  },
  {
   "cell_type": "code",
   "execution_count": null,
   "metadata": {},
   "outputs": [],
   "source": []
  },
  {
   "cell_type": "code",
   "execution_count": 37,
   "metadata": {},
   "outputs": [],
   "source": [
    "#cost function, to be maximized: \n",
    "#E[t] = 0.01*V_bar[t-1]\n",
    "#for t in days:\n",
    "#    c += E[t]*p[t] #cf assumption 2"
   ]
  },
  {
   "cell_type": "code",
   "execution_count": 59,
   "metadata": {},
   "outputs": [],
   "source": [
    "p_tot = [0]\n",
    "q_tot = [0]\n",
    "\n",
    "\n",
    "for t in days[1:-1]:\n",
    "    solver = pywraplp.Solver.CreateSolver('GLOP')\n",
    "    \n",
    "    p = solver.NumVar(0, solver.infinity(), 'p')\n",
    "    q = solver.NumVar(0, solver.infinity(), 'q')\n",
    "    \n",
    "    V_t = V[t-1] + conver_factor*(a[t-1] - p_tot[t-1]- q_tot[t-1])\n",
    "    \n",
    "    V.append(V_t)\n",
    "    \n",
    "    V_bar_t = (V[t]+V[t-1])/2\n",
    "    V_bar.append(V_bar_t)\n",
    "    \n",
    "    #Constraints\n",
    "    solver.Add( p <= p_max )\n",
    "    solver.Add( q <= q_max )\n",
    "    solver.Add( p - p_tot[t-1] <= 0.5*p_max )\n",
    "    solver.Add( p_tot[t-1] - p <= 0.5*p_max )\n",
    "#    solver.Add( V_bar_t <= V_max )\n",
    "\n",
    "\n",
    "    \n",
    "    #Objective:\n",
    "    solver.Maximize( p * V_bar_t )\n",
    "    \n",
    "    \n",
    "               \n",
    "    status = solver.Solve()         \n",
    "               \n",
    "               \n",
    "               \n",
    "               \n",
    "    p_tot.append(p.solution_value())\n",
    "    q_tot.append(q.solution_value())\n",
    "    "
   ]
  },
  {
   "cell_type": "code",
   "execution_count": 60,
   "metadata": {},
   "outputs": [
    {
     "data": {
      "text/plain": [
       "array([     0.  , 101259.72, 202538.88, 202538.88, 198203.76, 189533.52,\n",
       "       185276.16, 181174.32, 172659.6 ])"
      ]
     },
     "execution_count": 60,
     "metadata": {},
     "output_type": "execute_result"
    }
   ],
   "source": [
    "np.multiply(p_tot , V_bar)"
   ]
  },
  {
   "cell_type": "code",
   "execution_count": 54,
   "metadata": {},
   "outputs": [
    {
     "data": {
      "text/plain": [
       "[0, 225.0, 450.0, 450.0, 450.0, 450.0, 450.0, 450.0, 450.0]"
      ]
     },
     "execution_count": 54,
     "metadata": {},
     "output_type": "execute_result"
    }
   ],
   "source": [
    "p_tot"
   ]
  },
  {
   "cell_type": "code",
   "execution_count": 55,
   "metadata": {},
   "outputs": [
    {
     "data": {
      "text/plain": [
       "[0, 0.0, 0.0, 0.0, 0.0, 0.0, 0.0, 0.0, 0.0]"
      ]
     },
     "execution_count": 55,
     "metadata": {},
     "output_type": "execute_result"
    }
   ],
   "source": [
    "q_tot"
   ]
  },
  {
   "cell_type": "code",
   "execution_count": 4,
   "metadata": {},
   "outputs": [],
   "source": [
    "current_flow = 350\n",
    "current_volume = 380\n",
    "\n",
    "ranges_col = [0, 200, 400]\n",
    "ranges_row = [0, 100, 200,300,400]\n",
    "\n",
    "# Get the index of the row\n",
    "for i in range(len(ranges_row)-1):\n",
    "    if current_volume in range(ranges_row[i], ranges_row[i+1]):\n",
    "        index_row = i\n",
    "        \n",
    "# Get the index of the column\n",
    "for j in range(len(ranges_col)-1):\n",
    "    if current_flow in range(ranges_col[j], ranges_col[j+1]):\n",
    "        index_col = j\n",
    "\n",
    "# Create an empty matrix\n",
    "new_matrix = np.zeros((len(ranges_row), len(ranges_col)))\n",
    "# Add an element with a one\n",
    "new_matrix[index_row, index_col] = 1\n",
    "# Multiply the two matrixes and get the only non-zero values\n",
    "value = np.sum(np.multiply(efficiency_table, new_matrix))"
   ]
  }
 ],
 "metadata": {
  "kernelspec": {
   "display_name": "Python 3",
   "language": "python",
   "name": "python3"
  },
  "language_info": {
   "codemirror_mode": {
    "name": "ipython",
    "version": 3
   },
   "file_extension": ".py",
   "mimetype": "text/x-python",
   "name": "python",
   "nbconvert_exporter": "python",
   "pygments_lexer": "ipython3",
   "version": "3.8.3"
  }
 },
 "nbformat": 4,
 "nbformat_minor": 5
}
