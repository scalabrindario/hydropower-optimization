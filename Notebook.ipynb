{
 "cells": [
  {
   "cell_type": "markdown",
   "id": "bde37fb8",
   "metadata": {},
   "source": [
    "## Parameters"
   ]
  },
  {
   "cell_type": "code",
   "execution_count": 1,
   "id": "093efa97",
   "metadata": {},
   "outputs": [],
   "source": [
    "# Maximum flow rate through turbines, expressed in m3/s\n",
    "max_flow_turb = 450\n",
    "\n",
    "# Maximum flow rate of spillway,expressed in m3/s\n",
    "max_flow_spill = 200\n",
    "\n",
    "# Planning horizon, expressed in days\n",
    "horizon = 10\n",
    "\n",
    "# Initial volume in reservoir, expressed in hm3\n",
    "init_vol_reservoir = 450\n",
    "\n",
    "# Maximum volume in reservoir, expressed in hm3\n",
    "max_vol_reservoir = 500"
   ]
  },
  {
   "cell_type": "code",
   "execution_count": null,
   "id": "44cfdd1d",
   "metadata": {},
   "outputs": [],
   "source": []
  }
 ],
 "metadata": {
  "kernelspec": {
   "display_name": "Python 3",
   "language": "python",
   "name": "python3"
  },
  "language_info": {
   "codemirror_mode": {
    "name": "ipython",
    "version": 3
   },
   "file_extension": ".py",
   "mimetype": "text/x-python",
   "name": "python",
   "nbconvert_exporter": "python",
   "pygments_lexer": "ipython3",
   "version": "3.8.3"
  }
 },
 "nbformat": 4,
 "nbformat_minor": 5
}
